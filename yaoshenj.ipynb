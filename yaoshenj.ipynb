{
 "cells": [
  {
   "cell_type": "code",
   "execution_count": 1,
   "metadata": {
    "collapsed": false
   },
   "outputs": [
    {
     "name": "stderr",
     "output_type": "stream",
     "text": [
      "Building prefix dict from the default dictionary ...\n"
     ]
    },
    {
     "name": "stderr",
     "output_type": "stream",
     "text": [
      "DEBUG:jieba:Building prefix dict from the default dictionary ...\n"
     ]
    },
    {
     "name": "stderr",
     "output_type": "stream",
     "text": [
      "Loading model from cache C:\\Users\\TTT\\AppData\\Local\\Temp\\jieba.cache\n"
     ]
    },
    {
     "name": "stderr",
     "output_type": "stream",
     "text": [
      "DEBUG:jieba:Loading model from cache C:\\Users\\TTT\\AppData\\Local\\Temp\\jieba.cache\n"
     ]
    },
    {
     "name": "stderr",
     "output_type": "stream",
     "text": [
      "Loading model cost 0.778 seconds.\n"
     ]
    },
    {
     "name": "stderr",
     "output_type": "stream",
     "text": [
      "DEBUG:jieba:Loading model cost 0.778 seconds.\n"
     ]
    },
    {
     "name": "stderr",
     "output_type": "stream",
     "text": [
      "Prefix dict has been built succesfully.\n"
     ]
    },
    {
     "name": "stderr",
     "output_type": "stream",
     "text": [
      "DEBUG:jieba:Prefix dict has been built succesfully.\n"
     ]
    },
    {
     "name": "stderr",
     "output_type": "stream",
     "text": [
      "c:\\python36\\install\\lib\\site-packages\\ipykernel_launcher.py:94: DeprecationWarning: `imread` is deprecated!\n`imread` is deprecated in SciPy 1.0.0, and will be removed in 1.2.0.\nUse ``imageio.imread`` instead.\n"
     ]
    },
    {
     "data": {
      "text/plain": [
       "<Figure size 640x480 with 1 Axes>"
      ]
     },
     "execution_count": 0,
     "metadata": {},
     "output_type": "execute_result"
    }
   ],
   "source": [
    "import pandas as pd\n",
    "import os\n",
    "from pyecharts import Bar, Geo, Line, Overlap\n",
    "import jieba\n",
    "from scipy.misc import imread  # 这是一个处理图像的函数\n",
    "from wordcloud import WordCloud, ImageColorGenerator\n",
    "import matplotlib.pyplot as plt\n",
    "from collections import Counter\n",
    "\n",
    "os.chdir('C:/爬虫/药神')\n",
    "\n",
    "## 可以直接读取我们已经爬到的数据进行分析\n",
    "yaoshen_com = pd.read_excel('C:\\爬虫\\药神\\我不是药神new2-2.xlsx')\n",
    "grouped = yaoshen_com.groupby(['city'])\n",
    "grouped_pct = grouped['score']\n",
    "\n",
    "## 全国热力图\n",
    "city_com = grouped_pct.agg(['mean', 'count'])\n",
    "city_com.reset_index(inplace=True)\n",
    "city_com['mean'] = round(city_com['mean'], 2)\n",
    "data = [(city_com['city'][i], city_com['count'][i]) for i in range(0, city_com.shape[0])]\n",
    "geo = Geo('《我不是药神》全国热力图', title_color=\"#fff\",\n",
    "          title_pos=\"center\", width=1200, height=600, background_color='#404a59')\n",
    "attr, value = geo.cast(data)\n",
    "geo.add(\"\", attr, value, type=\"heatmap\", visual_range=[0, 50],\n",
    "        visual_text_color=\"#fff\", symbol_size=10, is_visualmap=True,\n",
    "        is_roam=False)\n",
    "geo.render('我不是药神全国热力图.html')\n",
    "\n",
    "## 主要城市评论数与评分\n",
    "city_main = city_com.sort_values('count', ascending=False)[0:20]\n",
    "attr = city_main['city']\n",
    "v1 = city_main['count']\n",
    "v2 = city_main['mean']\n",
    "line = Line(\"主要城市评分\")\n",
    "line.add(\"城市\", attr, v2, is_stack=True, xaxis_rotate=30, yaxis_min=4.2,\n",
    "         mark_point=['min', 'max'], xaxis_interval=0, line_color='lightblue',\n",
    "         line_width=4, mark_point_textcolor='black', mark_point_color='lightblue',\n",
    "         is_splitline_show=False)\n",
    "\n",
    "bar = Bar(\"主要城市评论数\")\n",
    "bar.add(\"城市\", attr, v1, is_stack=False, xaxis_rotate=30, yaxis_min=4.2,\n",
    "        xaxis_interval=0, is_splitline_show=False)\n",
    "overlap = Overlap()\n",
    "# 默认不新增 x y 轴，并且 x y 轴的索引都为 0\n",
    "overlap.add(bar)\n",
    "overlap.add(line, yaxis_index=1, is_add_yaxis=True)\n",
    "overlap.render('主要城市评论数_平均分.html')\n",
    "\n",
    "## 主要城市评分降序\n",
    "city_score = city_main.sort_values('mean', ascending=False)[0:20]\n",
    "attr = city_score['city']\n",
    "v1 = city_score['mean']\n",
    "line = Line(\"主要城市评分\")\n",
    "line.add(\"城市\", attr, v1, is_stack=True, xaxis_rotate=30, yaxis_min=4.2,\n",
    "         mark_point=['min', 'max'], xaxis_interval=0, line_color='lightblue',\n",
    "         line_width=4, mark_point_textcolor='black', mark_point_color='lightblue',\n",
    "         is_splitline_show=False)\n",
    "line.render('主要城市评分.html')\n",
    "\n",
    "## 主要城市评分全国分布\n",
    "city_score_area = city_com.sort_values('count', ascending=False)[0:30]\n",
    "city_score_area.reset_index(inplace=True)\n",
    "data = [(city_score_area['city'][i], city_score_area['mean'][i]) for i in range(0,\n",
    "                                                                                city_score_area.shape[0])]\n",
    "geo = Geo('《我不是药神》全国主要城市打分图', title_color=\"#fff\",\n",
    "          title_pos=\"center\", width=1200, height=600, background_color='#404a59')\n",
    "attr, value = geo.cast(data)\n",
    "geo.add(\"\", attr, value, visual_range=[4.4, 4.8],\n",
    "        visual_text_color=\"#fff\", symbol_size=15, is_visualmap=True,\n",
    "        is_roam=False)\n",
    "geo.render('我不是药神全国主要城市打分图.html')\n",
    "\n",
    "'''\n",
    "## 前三天票房对比      \n",
    "piaofang = pd.read_excel('票房.xlsx')\n",
    "attr1 = piaofang[piaofang['film'] == '西虹市首富']['day']\n",
    "v1 = piaofang[piaofang['film'] == '西虹市首富']['money']\n",
    "attr2 = piaofang[piaofang['film'] == '羞羞的铁拳']['day']\n",
    "v2 = piaofang[piaofang['film'] == '羞羞的铁拳']['money']\n",
    "line = Line(\"前三天票房对比\")\n",
    "line.add(\"西红柿首富\", attr1, v1, is_stack=True)\n",
    "line.add(\"羞羞的铁拳\", attr2, v2, is_stack=True)\n",
    "line.render('前三天票房对比.html')\n",
    "'''\n",
    "\n",
    "## 绘制词云\n",
    "yaoshen_str = ' '.join(yaoshen_com['comment'])\n",
    "words_list = []\n",
    "word_generator = jieba.cut_for_search(yaoshen_str)\n",
    "for word in word_generator:\n",
    "    words_list.append(word)\n",
    "words_list = [k for k in words_list if len(k) > 1]\n",
    "back_color = imread('C:\\daima\\dataanalysis\\我不是药神.jpg')  # 解析该图片\n",
    "wc = WordCloud(background_color='white',  # 背景颜色\n",
    "               max_words=200,  # 最大词数\n",
    "               mask=back_color,  # 以该参数值作图绘制词云，这个参数不为空时，width和height会被忽略\n",
    "               max_font_size=300,  # 显示字体的最大值\n",
    "               font_path=\"C:/Windows/Fonts/STFANGSO.ttf\",  # 解决显示口字型乱码问题，可进入C:/Windows/Fonts/目录更换字体\n",
    "               random_state=42,  # 为每个词返回一个PIL颜色\n",
    "               )\n",
    "yaoshen_count = Counter(words_list)\n",
    "wc.generate_from_frequencies(yaoshen_count)\n",
    "# 基于彩色图像生成相应彩色\n",
    "image_colors = ImageColorGenerator(back_color)\n",
    "# 绘制结果\n",
    "plt.figure()\n",
    "plt.imshow(wc.recolor(color_func=image_colors))\n",
    "plt.axis('off')\n",
    "plt.show()"
   ]
  },
  {
   "cell_type": "code",
   "execution_count": null,
   "metadata": {},
   "outputs": [],
   "source": []
  },
  {
   "cell_type": "code",
   "execution_count": 3,
   "metadata": {},
   "outputs": [],
   "source": []
  },
  {
   "cell_type": "code",
   "execution_count": 3,
   "metadata": {},
   "outputs": [],
   "source": []
  },
  {
   "cell_type": "code",
   "execution_count": 1,
   "metadata": {},
   "outputs": [],
   "source": []
  },
  {
   "cell_type": "code",
   "execution_count": null,
   "metadata": {},
   "outputs": [],
   "source": []
  }
 ],
 "metadata": {
  "kernelspec": {
   "display_name": "Python 3",
   "language": "python",
   "name": "python3"
  },
  "language_info": {
   "codemirror_mode": {
    "name": "ipython",
    "version": 3
   },
   "file_extension": ".py",
   "mimetype": "text/x-python",
   "name": "python",
   "nbconvert_exporter": "python",
   "pygments_lexer": "ipython3",
   "version": "3.6.4"
  }
 },
 "nbformat": 4,
 "nbformat_minor": 1
}
